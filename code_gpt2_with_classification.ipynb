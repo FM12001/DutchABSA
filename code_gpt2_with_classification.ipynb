{
  "nbformat": 4,
  "nbformat_minor": 0,
  "metadata": {
    "colab": {
      "name": "gpt2_with_classification.ipynb",
      "provenance": [],
      "collapsed_sections": []
    },
    "kernelspec": {
      "name": "python3",
      "display_name": "Python 3"
    },
    "language_info": {
      "name": "python"
    },
    "accelerator": "GPU",
    "widgets": {
      "application/vnd.jupyter.widget-state+json": {
        "80051ddc4fa9436fa79b84aeec436d09": {
          "model_module": "@jupyter-widgets/controls",
          "model_name": "HBoxModel",
          "model_module_version": "1.5.0",
          "state": {
            "_dom_classes": [],
            "_model_module": "@jupyter-widgets/controls",
            "_model_module_version": "1.5.0",
            "_model_name": "HBoxModel",
            "_view_count": null,
            "_view_module": "@jupyter-widgets/controls",
            "_view_module_version": "1.5.0",
            "_view_name": "HBoxView",
            "box_style": "",
            "children": [
              "IPY_MODEL_7dcadf4a57c749f0bba139230e23d413",
              "IPY_MODEL_528dcf98a466427cb076e63976c48a02",
              "IPY_MODEL_ca9651d76cac41a3bc2d7d8c754b39e7"
            ],
            "layout": "IPY_MODEL_1e685c8c4e8346428877dae24fd78c3a"
          }
        },
        "7dcadf4a57c749f0bba139230e23d413": {
          "model_module": "@jupyter-widgets/controls",
          "model_name": "HTMLModel",
          "model_module_version": "1.5.0",
          "state": {
            "_dom_classes": [],
            "_model_module": "@jupyter-widgets/controls",
            "_model_module_version": "1.5.0",
            "_model_name": "HTMLModel",
            "_view_count": null,
            "_view_module": "@jupyter-widgets/controls",
            "_view_module_version": "1.5.0",
            "_view_name": "HTMLView",
            "description": "",
            "description_tooltip": null,
            "layout": "IPY_MODEL_adb990c5da104c8298d00c53d077e117",
            "placeholder": "​",
            "style": "IPY_MODEL_3d681ef756d245d0b84ba91e3ec99633",
            "value": "Downloading: 100%"
          }
        },
        "528dcf98a466427cb076e63976c48a02": {
          "model_module": "@jupyter-widgets/controls",
          "model_name": "FloatProgressModel",
          "model_module_version": "1.5.0",
          "state": {
            "_dom_classes": [],
            "_model_module": "@jupyter-widgets/controls",
            "_model_module_version": "1.5.0",
            "_model_name": "FloatProgressModel",
            "_view_count": null,
            "_view_module": "@jupyter-widgets/controls",
            "_view_module_version": "1.5.0",
            "_view_name": "ProgressView",
            "bar_style": "success",
            "description": "",
            "description_tooltip": null,
            "layout": "IPY_MODEL_39b09bb9b55c4ec5bc79e727ba415532",
            "max": 478894341,
            "min": 0,
            "orientation": "horizontal",
            "style": "IPY_MODEL_118a192214f84d03bb66ae8c5dc40f98",
            "value": 478894341
          }
        },
        "ca9651d76cac41a3bc2d7d8c754b39e7": {
          "model_module": "@jupyter-widgets/controls",
          "model_name": "HTMLModel",
          "model_module_version": "1.5.0",
          "state": {
            "_dom_classes": [],
            "_model_module": "@jupyter-widgets/controls",
            "_model_module_version": "1.5.0",
            "_model_name": "HTMLModel",
            "_view_count": null,
            "_view_module": "@jupyter-widgets/controls",
            "_view_module_version": "1.5.0",
            "_view_name": "HTMLView",
            "description": "",
            "description_tooltip": null,
            "layout": "IPY_MODEL_0fb32ca0e91747328fb8fce4b5144bca",
            "placeholder": "​",
            "style": "IPY_MODEL_9376bd8158e64920a0e24d8f349cd8b8",
            "value": " 457M/457M [00:08&lt;00:00, 61.3MB/s]"
          }
        },
        "1e685c8c4e8346428877dae24fd78c3a": {
          "model_module": "@jupyter-widgets/base",
          "model_name": "LayoutModel",
          "model_module_version": "1.2.0",
          "state": {
            "_model_module": "@jupyter-widgets/base",
            "_model_module_version": "1.2.0",
            "_model_name": "LayoutModel",
            "_view_count": null,
            "_view_module": "@jupyter-widgets/base",
            "_view_module_version": "1.2.0",
            "_view_name": "LayoutView",
            "align_content": null,
            "align_items": null,
            "align_self": null,
            "border": null,
            "bottom": null,
            "display": null,
            "flex": null,
            "flex_flow": null,
            "grid_area": null,
            "grid_auto_columns": null,
            "grid_auto_flow": null,
            "grid_auto_rows": null,
            "grid_column": null,
            "grid_gap": null,
            "grid_row": null,
            "grid_template_areas": null,
            "grid_template_columns": null,
            "grid_template_rows": null,
            "height": null,
            "justify_content": null,
            "justify_items": null,
            "left": null,
            "margin": null,
            "max_height": null,
            "max_width": null,
            "min_height": null,
            "min_width": null,
            "object_fit": null,
            "object_position": null,
            "order": null,
            "overflow": null,
            "overflow_x": null,
            "overflow_y": null,
            "padding": null,
            "right": null,
            "top": null,
            "visibility": null,
            "width": null
          }
        },
        "adb990c5da104c8298d00c53d077e117": {
          "model_module": "@jupyter-widgets/base",
          "model_name": "LayoutModel",
          "model_module_version": "1.2.0",
          "state": {
            "_model_module": "@jupyter-widgets/base",
            "_model_module_version": "1.2.0",
            "_model_name": "LayoutModel",
            "_view_count": null,
            "_view_module": "@jupyter-widgets/base",
            "_view_module_version": "1.2.0",
            "_view_name": "LayoutView",
            "align_content": null,
            "align_items": null,
            "align_self": null,
            "border": null,
            "bottom": null,
            "display": null,
            "flex": null,
            "flex_flow": null,
            "grid_area": null,
            "grid_auto_columns": null,
            "grid_auto_flow": null,
            "grid_auto_rows": null,
            "grid_column": null,
            "grid_gap": null,
            "grid_row": null,
            "grid_template_areas": null,
            "grid_template_columns": null,
            "grid_template_rows": null,
            "height": null,
            "justify_content": null,
            "justify_items": null,
            "left": null,
            "margin": null,
            "max_height": null,
            "max_width": null,
            "min_height": null,
            "min_width": null,
            "object_fit": null,
            "object_position": null,
            "order": null,
            "overflow": null,
            "overflow_x": null,
            "overflow_y": null,
            "padding": null,
            "right": null,
            "top": null,
            "visibility": null,
            "width": null
          }
        },
        "3d681ef756d245d0b84ba91e3ec99633": {
          "model_module": "@jupyter-widgets/controls",
          "model_name": "DescriptionStyleModel",
          "model_module_version": "1.5.0",
          "state": {
            "_model_module": "@jupyter-widgets/controls",
            "_model_module_version": "1.5.0",
            "_model_name": "DescriptionStyleModel",
            "_view_count": null,
            "_view_module": "@jupyter-widgets/base",
            "_view_module_version": "1.2.0",
            "_view_name": "StyleView",
            "description_width": ""
          }
        },
        "39b09bb9b55c4ec5bc79e727ba415532": {
          "model_module": "@jupyter-widgets/base",
          "model_name": "LayoutModel",
          "model_module_version": "1.2.0",
          "state": {
            "_model_module": "@jupyter-widgets/base",
            "_model_module_version": "1.2.0",
            "_model_name": "LayoutModel",
            "_view_count": null,
            "_view_module": "@jupyter-widgets/base",
            "_view_module_version": "1.2.0",
            "_view_name": "LayoutView",
            "align_content": null,
            "align_items": null,
            "align_self": null,
            "border": null,
            "bottom": null,
            "display": null,
            "flex": null,
            "flex_flow": null,
            "grid_area": null,
            "grid_auto_columns": null,
            "grid_auto_flow": null,
            "grid_auto_rows": null,
            "grid_column": null,
            "grid_gap": null,
            "grid_row": null,
            "grid_template_areas": null,
            "grid_template_columns": null,
            "grid_template_rows": null,
            "height": null,
            "justify_content": null,
            "justify_items": null,
            "left": null,
            "margin": null,
            "max_height": null,
            "max_width": null,
            "min_height": null,
            "min_width": null,
            "object_fit": null,
            "object_position": null,
            "order": null,
            "overflow": null,
            "overflow_x": null,
            "overflow_y": null,
            "padding": null,
            "right": null,
            "top": null,
            "visibility": null,
            "width": null
          }
        },
        "118a192214f84d03bb66ae8c5dc40f98": {
          "model_module": "@jupyter-widgets/controls",
          "model_name": "ProgressStyleModel",
          "model_module_version": "1.5.0",
          "state": {
            "_model_module": "@jupyter-widgets/controls",
            "_model_module_version": "1.5.0",
            "_model_name": "ProgressStyleModel",
            "_view_count": null,
            "_view_module": "@jupyter-widgets/base",
            "_view_module_version": "1.2.0",
            "_view_name": "StyleView",
            "bar_color": null,
            "description_width": ""
          }
        },
        "0fb32ca0e91747328fb8fce4b5144bca": {
          "model_module": "@jupyter-widgets/base",
          "model_name": "LayoutModel",
          "model_module_version": "1.2.0",
          "state": {
            "_model_module": "@jupyter-widgets/base",
            "_model_module_version": "1.2.0",
            "_model_name": "LayoutModel",
            "_view_count": null,
            "_view_module": "@jupyter-widgets/base",
            "_view_module_version": "1.2.0",
            "_view_name": "LayoutView",
            "align_content": null,
            "align_items": null,
            "align_self": null,
            "border": null,
            "bottom": null,
            "display": null,
            "flex": null,
            "flex_flow": null,
            "grid_area": null,
            "grid_auto_columns": null,
            "grid_auto_flow": null,
            "grid_auto_rows": null,
            "grid_column": null,
            "grid_gap": null,
            "grid_row": null,
            "grid_template_areas": null,
            "grid_template_columns": null,
            "grid_template_rows": null,
            "height": null,
            "justify_content": null,
            "justify_items": null,
            "left": null,
            "margin": null,
            "max_height": null,
            "max_width": null,
            "min_height": null,
            "min_width": null,
            "object_fit": null,
            "object_position": null,
            "order": null,
            "overflow": null,
            "overflow_x": null,
            "overflow_y": null,
            "padding": null,
            "right": null,
            "top": null,
            "visibility": null,
            "width": null
          }
        },
        "9376bd8158e64920a0e24d8f349cd8b8": {
          "model_module": "@jupyter-widgets/controls",
          "model_name": "DescriptionStyleModel",
          "model_module_version": "1.5.0",
          "state": {
            "_model_module": "@jupyter-widgets/controls",
            "_model_module_version": "1.5.0",
            "_model_name": "DescriptionStyleModel",
            "_view_count": null,
            "_view_module": "@jupyter-widgets/base",
            "_view_module_version": "1.2.0",
            "_view_name": "StyleView",
            "description_width": ""
          }
        }
      }
    }
  },
  "cells": [
    {
      "cell_type": "code",
      "execution_count": null,
      "metadata": {
        "id": "QpLqnela035i"
      },
      "outputs": [],
      "source": [
        "!pip install transformers"
      ]
    },
    {
      "cell_type": "code",
      "source": [
        "import json\n",
        "from sklearn.model_selection import train_test_split\n",
        "\n",
        "with open('/content/drive/MyDrive/ResearchProject/083/reviews_083_training.json') as f: #specify training data path\n",
        "    data = json.load(f)\n",
        "\n",
        "train, test = train_test_split(data,test_size=0.15) \n",
        "\n",
        "def build_text_files_no_class(data_json, dest_path):\n",
        "    f = open(dest_path, 'w')\n",
        "    data = ''\n",
        "    for review in data_json:\n",
        "        aspects = \"\"\n",
        "        for pro in review[\"pros\"]:\n",
        "          aspects += f'<newaspect>{pro}'\n",
        "        for con in review[\"cons\"]:\n",
        "          aspects += f'<newaspect>{con}'\n",
        "        text = f'<startoftext><reviewtext>{review[\"text\"]}<aspects>{aspects}<endoftext>'\n",
        "        data += text + \"\\n\"\n",
        "    f.write(data)\n",
        "\n",
        "def build_text_files_with_class(data_json, dest_path):\n",
        "    f = open(dest_path, 'w')\n",
        "    data = ''\n",
        "    for review in data_json:\n",
        "        aspects = \"\"\n",
        "        for pro in review[\"pros\"]:\n",
        "          aspects += f'<pro>{pro}'\n",
        "        for con in review[\"cons\"]:\n",
        "          aspects += f'<con>{con}'\n",
        "        text = f'<startoftext><reviewtext>{review[\"text\"]}<aspects>{aspects}<endoftext>'\n",
        "        data += text + \"\\n\"\n",
        "    f.write(data)\n",
        "\n",
        "\n",
        "build_text_files_with_class(train,'train_dataset.txt')\n",
        "build_text_files_with_class(test,'test_dataset.txt')\n",
        "\n",
        "print(\"Train dataset length: \"+str(len(train)))\n",
        "print(\"Test dataset length: \"+ str(len(test)))\n"
      ],
      "metadata": {
        "id": "Z2Ppi6tl2rS7"
      },
      "execution_count": null,
      "outputs": []
    },
    {
      "cell_type": "code",
      "source": [
        "from transformers import AutoTokenizer\n",
        "\n",
        "tokenizer = AutoTokenizer.from_pretrained(\"GroNLP/gpt2-small-dutch\")\n",
        "\n",
        "train_path = 'train_dataset.txt'\n",
        "test_path = 'test_dataset.txt'"
      ],
      "metadata": {
        "id": "WX0NGlF89TEY"
      },
      "execution_count": null,
      "outputs": []
    },
    {
      "cell_type": "code",
      "source": [
        "from transformers import TextDataset,DataCollatorForLanguageModeling\n",
        "\n",
        "def load_dataset(train_path,test_path,tokenizer):\n",
        "    train_dataset = TextDataset(\n",
        "          tokenizer=tokenizer,\n",
        "          file_path=train_path,\n",
        "          block_size=128)\n",
        "     \n",
        "    test_dataset = TextDataset(\n",
        "          tokenizer=tokenizer,\n",
        "          file_path=test_path,\n",
        "          block_size=128)   \n",
        "    \n",
        "    data_collator = DataCollatorForLanguageModeling(\n",
        "        tokenizer=tokenizer, mlm=False,\n",
        "    )\n",
        "    return train_dataset,test_dataset,data_collator\n",
        "\n",
        "train_dataset,test_dataset,data_collator = load_dataset(train_path,test_path,tokenizer)"
      ],
      "metadata": {
        "id": "eGS_pKh292_y"
      },
      "execution_count": null,
      "outputs": []
    },
    {
      "cell_type": "code",
      "source": [
        "from transformers import Trainer, TrainingArguments,AutoModelWithLMHead\n",
        "\n",
        "model = AutoModelWithLMHead.from_pretrained(\"GroNLP/gpt2-small-dutch\")\n",
        "\n",
        "\n",
        "training_args = TrainingArguments(\n",
        "    output_dir=\"./gpt2-with-classification\", #The output directory\n",
        "    overwrite_output_dir=True, #overwrite the content of the output directory\n",
        "    num_train_epochs=3, # number of training epochs\n",
        "    per_device_train_batch_size=32, # batch size for training\n",
        "    per_device_eval_batch_size=64, # batch size for evaluation\n",
        "    eval_steps = 200, # Number of update steps between two evaluations.\n",
        "    save_steps=2000000, # after # steps model is saved \n",
        "    warmup_steps=250, # number of warmup steps for learning rate scheduler\n",
        "    prediction_loss_only=True,\n",
        "    )\n",
        "\n",
        "\n",
        "trainer = Trainer(\n",
        "    model=model,\n",
        "    args=training_args,\n",
        "    data_collator=data_collator,\n",
        "    train_dataset=train_dataset,\n",
        "    eval_dataset=test_dataset,\n",
        ")"
      ],
      "metadata": {
        "id": "ke6_fnL8-BMy",
        "colab": {
          "base_uri": "https://localhost:8080/",
          "height": 104,
          "referenced_widgets": [
            "80051ddc4fa9436fa79b84aeec436d09",
            "7dcadf4a57c749f0bba139230e23d413",
            "528dcf98a466427cb076e63976c48a02",
            "ca9651d76cac41a3bc2d7d8c754b39e7",
            "1e685c8c4e8346428877dae24fd78c3a",
            "adb990c5da104c8298d00c53d077e117",
            "3d681ef756d245d0b84ba91e3ec99633",
            "39b09bb9b55c4ec5bc79e727ba415532",
            "118a192214f84d03bb66ae8c5dc40f98",
            "0fb32ca0e91747328fb8fce4b5144bca",
            "9376bd8158e64920a0e24d8f349cd8b8"
          ]
        },
        "outputId": "8e9e1850-82cb-4c7f-87d7-3938f4993486"
      },
      "execution_count": null,
      "outputs": [
        {
          "output_type": "stream",
          "name": "stderr",
          "text": [
            "/usr/local/lib/python3.7/dist-packages/transformers/models/auto/modeling_auto.py:973: FutureWarning: The class `AutoModelWithLMHead` is deprecated and will be removed in a future version. Please use `AutoModelForCausalLM` for causal language models, `AutoModelForMaskedLM` for masked language models and `AutoModelForSeq2SeqLM` for encoder-decoder models.\n",
            "  FutureWarning,\n"
          ]
        },
        {
          "output_type": "display_data",
          "data": {
            "text/plain": [
              "Downloading:   0%|          | 0.00/457M [00:00<?, ?B/s]"
            ],
            "application/vnd.jupyter.widget-view+json": {
              "version_major": 2,
              "version_minor": 0,
              "model_id": "80051ddc4fa9436fa79b84aeec436d09"
            }
          },
          "metadata": {}
        }
      ]
    },
    {
      "cell_type": "code",
      "source": [
        "from google.colab import files\n",
        "\n",
        "trainer.train()\n",
        "trainer.save_model()"
      ],
      "metadata": {
        "id": "3M1434jh-p8s"
      },
      "execution_count": null,
      "outputs": []
    },
    {
      "cell_type": "code",
      "source": [
        "from transformers import pipeline\n",
        "\n",
        "pipe = pipeline('text-generation', model='/content/gpt2-with-classification', tokenizer=\"GroNLP/gpt2-small-dutch\")"
      ],
      "metadata": {
        "id": "qDVsL5DT-yIH"
      },
      "execution_count": null,
      "outputs": []
    },
    {
      "cell_type": "code",
      "source": [
        "pipe(\"<startoftext><reviewtext>Geweldige wasmachine, draait hard. Maar wel luidruchtig. Ik vind het lawaai erg vervelend. De was wordt wel goed schoon. zeer mooie kleur<aspects>\")"
      ],
      "metadata": {
        "id": "lLPiKU7L_GDs",
        "colab": {
          "base_uri": "https://localhost:8080/"
        },
        "outputId": "79a1e868-5e1c-4b18-cce9-22a1887427ee"
      },
      "execution_count": null,
      "outputs": [
        {
          "output_type": "execute_result",
          "data": {
            "text/plain": [
              "[{'generated_text': '<startoftext><reviewtext>Geweldige wasmachine, draait hard. Maar wel luidruchtig. Ik vind het lawaai erg vervelend. De was wordt wel goed schoon. zeer mooie kleur<aspects><pro>lekkere koffie<endoftext>\\nDe stofzuiger heeft 2 opzetstukken waardoor hij heel makkelijk in gebruik is. Het enige nadeel dat je niet hoeft te kiezen tussen verschillende opzetstukken zou kunnen zijn met de kleine zuigmond maar die kun je gemakkelijk vervangen door een'}]"
            ]
          },
          "metadata": {},
          "execution_count": 10
        }
      ]
    },
    {
      "cell_type": "code",
      "source": [
        "pipe(\"<startoftext><reviewtext>De stoel zit lekker, maar ziet er niet uit.<aspects>\")"
      ],
      "metadata": {
        "id": "-ue-SP_Scu6W",
        "colab": {
          "base_uri": "https://localhost:8080/"
        },
        "outputId": "76aac57b-cf40-407a-a188-dcccf5053759"
      },
      "execution_count": null,
      "outputs": [
        {
          "output_type": "execute_result",
          "data": {
            "text/plain": [
              "[{'generated_text': '<startoftext><reviewtext>De stoel zit lekker, maar ziet er niet uit.<aspects><con>doet wat het moet doen<endoftext>\\nHet apparaat is eenvoudig in te stellen via de app en kan op je telefoon worden opgeladen. De batterijduur van dit apparaat is lang genoeg dat hij wel eens 2 uur aan gaat zonder problemen. Het enige minpunt waar ik erg mee over nagedacht ben zijn de reinigingscancelling functies'}]"
            ]
          },
          "metadata": {},
          "execution_count": 11
        }
      ]
    },
    {
      "cell_type": "code",
      "source": [
        "pipe(\"<startoftext><reviewtext>Mooi design maar de software is slecht<aspects>\")"
      ],
      "metadata": {
        "id": "VlBJOQ55dK49",
        "colab": {
          "base_uri": "https://localhost:8080/"
        },
        "outputId": "5a55bac4-6bc1-431b-d5c4-b9d35759ec8c"
      },
      "execution_count": null,
      "outputs": [
        {
          "output_type": "execute_result",
          "data": {
            "text/plain": [
              "[{'generated_text': \"<startoftext><reviewtext>Mooi design maar de software is slecht<aspects><con>Slechte kwaliteit<endoftext>\\n<startafleveringtext>Ik heb deze stofzuiger nu enkele weken in huis en ben zeer tevreden met mijn aankoop. Ik had verwacht dat ik dit product zou kopen, omdat het apparaat zo'n goed zuigkracht maakt (en daardoor veel te weinig geluid geeft). Maar na 2 maanden gebruik vond ik er wel iets minder kracht aan\"}]"
            ]
          },
          "metadata": {},
          "execution_count": 12
        }
      ]
    },
    {
      "cell_type": "code",
      "source": [
        "#download model\n",
        "!zip -r /content/gpt2-with-classification.zip /content/gpt2-with-classification\n",
        "files.download('/content/gpt2-with-classification.zip')"
      ],
      "metadata": {
        "id": "j4sJkJ2S7xK5"
      },
      "execution_count": null,
      "outputs": []
    },
    {
      "cell_type": "markdown",
      "source": [
        "# Load existing model"
      ],
      "metadata": {
        "id": "BRgMuuGdh_St"
      }
    },
    {
      "cell_type": "code",
      "source": [
        "from transformers import AutoModel\n",
        "model = AutoModel.from_pretrained(\"/content/model\")"
      ],
      "metadata": {
        "id": "esmdYxaNi4Aw"
      },
      "execution_count": null,
      "outputs": []
    },
    {
      "cell_type": "code",
      "source": [
        "from transformers import AutoTokenizer\n",
        "tokenizer = AutoTokenizer.from_pretrained(\"GroNLP/gpt2-small-dutch\")"
      ],
      "metadata": {
        "id": "8QDmn_6HsXOU"
      },
      "execution_count": null,
      "outputs": []
    },
    {
      "cell_type": "code",
      "source": [
        "from transformers import pipeline\n",
        "\n",
        "pipe = pipeline('text-generation', model='/content/drive/MyDrive/ResearchProject/083/GPT2_with_class/model', tokenizer=\"GroNLP/gpt2-small-dutch\")"
      ],
      "metadata": {
        "id": "P7DkQNvXj3ez"
      },
      "execution_count": null,
      "outputs": []
    },
    {
      "cell_type": "markdown",
      "source": [
        "# Evaluate model"
      ],
      "metadata": {
        "id": "k_10zxl2kQwS"
      }
    },
    {
      "cell_type": "code",
      "source": [
        "import json\n",
        "\n",
        "with open('/content/drive/MyDrive/ResearchProject/083/reviews_083_testing.json') as f: #specify path to testing data\n",
        "    test_data = json.load(f)"
      ],
      "metadata": {
        "id": "y8C9T58yAB2r"
      },
      "execution_count": null,
      "outputs": []
    },
    {
      "cell_type": "code",
      "source": [
        "import json\n",
        "\n",
        "outpath = '/content/drive/MyDrive/ResearchProject/083/GPT2_with_class/GPT2_with_class_083_result.json'\n",
        "\n",
        "with open(outpath) as f:\n",
        "  test_data = json.load(f)\n",
        "\n",
        "def check_count():\n",
        "  if count % 100 == 0:\n",
        "    print(\"processed \"+str(count)+\" reviews out of \" + str(total_num_reviews))\n",
        "    with open(outpath, 'w') as outfile:\n",
        "      json.dump(test_data, outfile)\n",
        "\n",
        "count = 0\n",
        "total_num_reviews = len(test_data)\n",
        "\n",
        "for review in test_data:\n",
        "  if ((\"generated_pros\" in review.keys()) and review[\"generated_pros\"]) or ((\"generated_cons\" in review.keys()) and review[\"generated_cons\"]):\n",
        "    count += 1\n",
        "    check_count()\n",
        "    continue\n",
        "  else:\n",
        "    review[\"generated_pros\"] = []\n",
        "    review[\"generated_cons\"] = []\n",
        "  \n",
        "  max_length = len(tokenizer(review[\"text\"])[\"input_ids\"]) + 15 + 15\n",
        "  generated = pipe(\"<startoftext><reviewtext>\" + review[\"text\"] + \"<aspects>\", max_length = max_length)\n",
        "  generated = generated[0][\"generated_text\"]\n",
        "  generated = generated.replace(f'<startoftext><reviewtext>{review[\"text\"]}<aspects>',\"\")\n",
        "  \n",
        "  if (not generated.startswith(\"<endoftext>\")) and (\"<endoftext>\" in generated):\n",
        "    generated = generated.split(\"<endoftext>\")[0]\n",
        "  else:\n",
        "    continue\n",
        "\n",
        "  generated = generated.split(\"<\")\n",
        "  for substring in generated:\n",
        "    aspect = substring.split(\">\")\n",
        "    if len(aspect) is not 2:\n",
        "      continue\n",
        "    if aspect[0] == \"pro\":\n",
        "      review[\"generated_pros\"].append(aspect[1])\n",
        "    elif aspect[0] == \"con\":\n",
        "      review[\"generated_cons\"].append(aspect[1])\n",
        "\n",
        "  count += 1\n",
        "  check_count()\n",
        "\n",
        "\n",
        "with open(outpath, 'w') as outfile:\n",
        "  json.dump(test_data, outfile)\n",
        "\n",
        "files.download(outpath)"
      ],
      "metadata": {
        "id": "BW0yuWl4kUZz"
      },
      "execution_count": null,
      "outputs": []
    }
  ]
}